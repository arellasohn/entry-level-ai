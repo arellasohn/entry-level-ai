{
  "nbformat": 4,
  "nbformat_minor": 0,
  "metadata": {
    "colab": {
      "provenance": []
    },
    "kernelspec": {
      "name": "python3",
      "display_name": "Python 3"
    },
    "language_info": {
      "name": "python"
    }
  },
  "cells": [
    {
      "cell_type": "code",
      "execution_count": 1,
      "metadata": {
        "id": "NEveu3qYPCPD"
      },
      "outputs": [],
      "source": [
        "import numpy as np\n",
        "import pandas as pd\n",
        "import matplotlib.pyplot as plt\n",
        "\n",
        "from tensorflow.keras.models import Sequential\n",
        "from tensorflow.keras.layers import Dense, SimpleRNN"
      ]
    },
    {
      "cell_type": "code",
      "source": [
        "dataset = pd.read_csv('corona_daily.csv').values\n",
        "# neural network의 입력은 2d array만 가능\n",
        "corona_data = dataset[:,3:4]\n",
        "corona_data.shape\n",
        "# dataset의 4번째 열은 confirmed(확진자) 수로 누적된 값이기 때문에, 점점 증가한다."
      ],
      "metadata": {
        "colab": {
          "base_uri": "https://localhost:8080/"
        },
        "id": "MDlu1dSZPVWN",
        "outputId": "b211b85c-a9c1-4cfc-a7a4-cbd8c4513164"
      },
      "execution_count": 2,
      "outputs": [
        {
          "output_type": "execute_result",
          "data": {
            "text/plain": [
              "(115, 1)"
            ]
          },
          "metadata": {},
          "execution_count": 2
        }
      ]
    },
    {
      "cell_type": "code",
      "source": [
        "from sklearn.model_selection import train_test_split\n",
        "train_data,test_data = train_test_split(corona_data,test_size=0.2,shuffle=False)\n",
        "# RNN은 순차데이터(순서가 있는 데이터)를 다루기 때문에 순서가 바뀌면 안됨\n",
        "# shuffle = False로 설정하면 입력된 data를 섞지 않는다. (default: True)\n",
        "# 위를 실행하면, corona_data의 앞쪽 80%가 train_data, 그 뒤 20%가 test_data가 된다."
      ],
      "metadata": {
        "id": "wTCe7uVxQmp5"
      },
      "execution_count": 3,
      "outputs": []
    },
    {
      "cell_type": "code",
      "source": [
        "train_data.shape, test_data.shape"
      ],
      "metadata": {
        "colab": {
          "base_uri": "https://localhost:8080/"
        },
        "id": "Jc_kgaScSeFm",
        "outputId": "9b17e14d-3c30-40a8-a4b2-d1d6f9c36aa2"
      },
      "execution_count": 4,
      "outputs": [
        {
          "output_type": "execute_result",
          "data": {
            "text/plain": [
              "((92, 1), (23, 1))"
            ]
          },
          "metadata": {},
          "execution_count": 4
        }
      ]
    },
    {
      "cell_type": "code",
      "source": [
        "from sklearn.preprocessing import MinMaxScaler\n",
        "sc = MinMaxScaler(feature_range=(0,1))\n",
        "# MinMaxScaler(feature_range=(a,b)): 입력을 최소값이 a이고 최대값이 b가 되도록 변형함\n",
        "sc.fit(train_data)\n",
        "train_sc = sc.transform(train_data)\n",
        "# training data의 최대값이 1이 되며,\n",
        "# test data의 값은 training data 이후 값으로 더 큰 값이므로, 1보다 큰 값을 갖는다.\n",
        "test_sc = sc.transform(test_data)"
      ],
      "metadata": {
        "id": "joDGgddOPdRt"
      },
      "execution_count": 5,
      "outputs": []
    },
    {
      "cell_type": "code",
      "source": [
        "# RNN에 적용할 수 있는 형태로 변경하는 함수\n",
        "# num_past만큼의 과거 데이터(X), 다음 데이터(y)\n",
        "def create_dataset(dataset,num_past):\n",
        "  # 비어있는 X,y list 생성\n",
        "  X = []\n",
        "  y = []\n",
        "  # n개(len(dataset))의 데이터가 입력되면, n-num_past만큼의 X,y 쌍이 생성된다\n",
        "  for i in range(len(dataset)-num_past):\n",
        "    # X는 현재 index i부터 num_past만큼의 data\n",
        "    X_tmp = dataset[i:i+num_past]\n",
        "    # y는 X 이후의 data\n",
        "    y_tmp = dataset[i+num_past]\n",
        "\n",
        "    # list에 X_tmp와 y_tmp를 추가한다.\n",
        "    X.append(X_tmp)\n",
        "    y.append(y_tmp)\n",
        "\n",
        "  return np.array(X),np.array(y)"
      ],
      "metadata": {
        "id": "Hepg7vmPRx-6"
      },
      "execution_count": 6,
      "outputs": []
    },
    {
      "cell_type": "code",
      "source": [
        "# training과 test dataset을 X와 y로 분리\n",
        "past = 3\n",
        "X_train,y_train = create_dataset(train_sc,past)\n",
        "X_test,y_test = create_dataset(test_sc,past)"
      ],
      "metadata": {
        "id": "zFxN2UeLVKuI"
      },
      "execution_count": 7,
      "outputs": []
    },
    {
      "cell_type": "code",
      "source": [
        "# 분리된 결과를 확인\n",
        "print(train_sc.shape)\n",
        "# 분리 전 training data.shape: (92,1)\n",
        "# 분리 후 → X_train.shape, y_train.shape ??\n",
        "print(X_train.shape, y_train.shape)\n",
        "# X_train은 위 create_dataset에 의해 3d array가 됨"
      ],
      "metadata": {
        "colab": {
          "base_uri": "https://localhost:8080/"
        },
        "id": "aAVTnCB4VYzP",
        "outputId": "793d1467-3147-44f9-a5fd-1a7fb2012cd3"
      },
      "execution_count": 8,
      "outputs": [
        {
          "output_type": "stream",
          "name": "stdout",
          "text": [
            "(92, 1)\n",
            "(89, 3, 1) (89, 1)\n"
          ]
        }
      ]
    },
    {
      "cell_type": "markdown",
      "source": [
        "- RNN 입력의 shape은 반드시 **(sample의 수, 특징의 수, 과거 데이터의 수)**의 형태여야 한다.\n",
        "- 현재 X_train과 X_test는 **(sample의 수, 과거 데이터의 수, 1)**이므로 RNN 입력을 위한 shape으로 변경해야 한다.\n",
        "- 위 데이터에서 confirmed 한개의 열만 추출하여 사용하므로, 특징의 수는 1이다."
      ],
      "metadata": {
        "id": "1U8tgar6Xt5F"
      }
    },
    {
      "cell_type": "code",
      "source": [
        "# training data의 수\n",
        "num_train = X_train.shape[0]\n",
        "# 과거 데이터의 수\n",
        "num_past = X_train.shape[1]\n",
        "# 특징의 수\n",
        "num_feature = X_train.shape[2]\n",
        "\n",
        "# test data의 수\n",
        "num_test = X_test.shape[0]"
      ],
      "metadata": {
        "id": "i_rxfdfeXKC5"
      },
      "execution_count": 9,
      "outputs": []
    },
    {
      "cell_type": "code",
      "source": [
        "# X_train을 2d array, y_train을 1d array로 변경\n",
        "X_train_rnn = X_train.reshape(num_train,num_feature,num_past)\n",
        "y_train_rnn = y_train.ravel()\n",
        "X_test_rnn = X_test.reshape(num_test,num_feature,num_past)\n",
        "y_test_rnn = y_test.ravel()\n",
        "print(X_train_rnn.shape,y_train_rnn.shape,X_test_rnn.shape,y_test_rnn.shape)"
      ],
      "metadata": {
        "colab": {
          "base_uri": "https://localhost:8080/"
        },
        "id": "X1YI54diVi1I",
        "outputId": "d8fb83c0-9cb9-4b62-d94d-d9a850331b3b"
      },
      "execution_count": 10,
      "outputs": [
        {
          "output_type": "stream",
          "name": "stdout",
          "text": [
            "(89, 1, 3) (89,) (20, 1, 3) (20,)\n"
          ]
        }
      ]
    },
    {
      "cell_type": "code",
      "source": [
        "model_RNN = Sequential([\n",
        "    SimpleRNN(10,input_shape=(1,num_past)),\n",
        "    # SimpleRNN(node의 수, input_shape)\n",
        "    # input_shape = (X의 차원, 예측을 위해 사용되는 과거 데이터의 수)\n",
        "    Dense(1,activation='linear')\n",
        "    # 본 문제는 하나의 연속된 값을 예측하는 모델이므로, regression model에 해당한다.\n",
        "    # regression model은 output layer의 node 수가 1개이며, activation은 linear를 사용한다.\n",
        "    # linear activation은 활성화 함수를 거치지 않고 결과를 그대로 내보낸다는 의미이다.\n",
        "])"
      ],
      "metadata": {
        "id": "FbsUssmJWHW3"
      },
      "execution_count": 11,
      "outputs": []
    },
    {
      "cell_type": "code",
      "source": [
        "model_RNN.compile(optimizer='adam',loss='mse')\n",
        "# regression model을 학습할 때, loss는 주로 mse를 많이 사용한다."
      ],
      "metadata": {
        "id": "nJ9IQ_Id5-Fy"
      },
      "execution_count": 12,
      "outputs": []
    },
    {
      "cell_type": "code",
      "source": [
        "learning_result = model_RNN.fit(X_train_rnn,y_train_rnn,batch_size=1,epochs=100)"
      ],
      "metadata": {
        "colab": {
          "base_uri": "https://localhost:8080/"
        },
        "id": "o8NW75Pi6PGQ",
        "outputId": "b7273a63-7cd4-427f-dbec-74beec6ac864"
      },
      "execution_count": 13,
      "outputs": [
        {
          "output_type": "stream",
          "name": "stdout",
          "text": [
            "Epoch 1/100\n",
            "89/89 [==============================] - 1s 2ms/step - loss: 0.6560\n",
            "Epoch 2/100\n",
            "89/89 [==============================] - 0s 2ms/step - loss: 0.0602\n",
            "Epoch 3/100\n",
            "89/89 [==============================] - 0s 2ms/step - loss: 0.0291\n",
            "Epoch 4/100\n",
            "89/89 [==============================] - 0s 2ms/step - loss: 0.0196\n",
            "Epoch 5/100\n",
            "89/89 [==============================] - 0s 2ms/step - loss: 0.0123\n",
            "Epoch 6/100\n",
            "89/89 [==============================] - 0s 2ms/step - loss: 0.0070\n",
            "Epoch 7/100\n",
            "89/89 [==============================] - 0s 2ms/step - loss: 0.0038\n",
            "Epoch 8/100\n",
            "89/89 [==============================] - 0s 2ms/step - loss: 0.0019\n",
            "Epoch 9/100\n",
            "89/89 [==============================] - 0s 2ms/step - loss: 9.9552e-04\n",
            "Epoch 10/100\n",
            "89/89 [==============================] - 0s 2ms/step - loss: 5.5938e-04\n",
            "Epoch 11/100\n",
            "89/89 [==============================] - 0s 2ms/step - loss: 3.5930e-04\n",
            "Epoch 12/100\n",
            "89/89 [==============================] - 0s 2ms/step - loss: 2.8441e-04\n",
            "Epoch 13/100\n",
            "89/89 [==============================] - 0s 2ms/step - loss: 2.4630e-04\n",
            "Epoch 14/100\n",
            "89/89 [==============================] - 0s 2ms/step - loss: 2.3128e-04\n",
            "Epoch 15/100\n",
            "89/89 [==============================] - 0s 2ms/step - loss: 2.4690e-04\n",
            "Epoch 16/100\n",
            "89/89 [==============================] - 0s 2ms/step - loss: 2.3752e-04\n",
            "Epoch 17/100\n",
            "89/89 [==============================] - 0s 2ms/step - loss: 2.3645e-04\n",
            "Epoch 18/100\n",
            "89/89 [==============================] - 0s 2ms/step - loss: 2.3671e-04\n",
            "Epoch 19/100\n",
            "89/89 [==============================] - 0s 2ms/step - loss: 2.3476e-04\n",
            "Epoch 20/100\n",
            "89/89 [==============================] - 0s 2ms/step - loss: 2.4172e-04\n",
            "Epoch 21/100\n",
            "89/89 [==============================] - 0s 2ms/step - loss: 2.3441e-04\n",
            "Epoch 22/100\n",
            "89/89 [==============================] - 0s 2ms/step - loss: 2.3619e-04\n",
            "Epoch 23/100\n",
            "89/89 [==============================] - 0s 2ms/step - loss: 2.4269e-04\n",
            "Epoch 24/100\n",
            "89/89 [==============================] - 0s 2ms/step - loss: 2.2879e-04\n",
            "Epoch 25/100\n",
            "89/89 [==============================] - 0s 2ms/step - loss: 2.4704e-04\n",
            "Epoch 26/100\n",
            "89/89 [==============================] - 0s 2ms/step - loss: 2.3883e-04\n",
            "Epoch 27/100\n",
            "89/89 [==============================] - 0s 2ms/step - loss: 2.2895e-04\n",
            "Epoch 28/100\n",
            "89/89 [==============================] - 0s 2ms/step - loss: 2.4176e-04\n",
            "Epoch 29/100\n",
            "89/89 [==============================] - 0s 2ms/step - loss: 2.3542e-04\n",
            "Epoch 30/100\n",
            "89/89 [==============================] - 0s 2ms/step - loss: 2.3107e-04\n",
            "Epoch 31/100\n",
            "89/89 [==============================] - 0s 2ms/step - loss: 2.3330e-04\n",
            "Epoch 32/100\n",
            "89/89 [==============================] - 0s 2ms/step - loss: 2.5351e-04\n",
            "Epoch 33/100\n",
            "89/89 [==============================] - 0s 2ms/step - loss: 2.2676e-04\n",
            "Epoch 34/100\n",
            "89/89 [==============================] - 0s 2ms/step - loss: 2.2301e-04\n",
            "Epoch 35/100\n",
            "89/89 [==============================] - 0s 2ms/step - loss: 2.3385e-04\n",
            "Epoch 36/100\n",
            "89/89 [==============================] - 0s 2ms/step - loss: 2.3224e-04\n",
            "Epoch 37/100\n",
            "89/89 [==============================] - 0s 2ms/step - loss: 2.4091e-04\n",
            "Epoch 38/100\n",
            "89/89 [==============================] - 0s 3ms/step - loss: 2.2609e-04\n",
            "Epoch 39/100\n",
            "89/89 [==============================] - 0s 3ms/step - loss: 2.2977e-04\n",
            "Epoch 40/100\n",
            "89/89 [==============================] - 0s 3ms/step - loss: 2.2462e-04\n",
            "Epoch 41/100\n",
            "89/89 [==============================] - 0s 3ms/step - loss: 2.2834e-04\n",
            "Epoch 42/100\n",
            "89/89 [==============================] - 0s 3ms/step - loss: 2.2027e-04\n",
            "Epoch 43/100\n",
            "89/89 [==============================] - 0s 3ms/step - loss: 2.1915e-04\n",
            "Epoch 44/100\n",
            "89/89 [==============================] - 0s 3ms/step - loss: 2.1470e-04\n",
            "Epoch 45/100\n",
            "89/89 [==============================] - 0s 3ms/step - loss: 2.3797e-04\n",
            "Epoch 46/100\n",
            "89/89 [==============================] - 0s 3ms/step - loss: 2.2728e-04\n",
            "Epoch 47/100\n",
            "89/89 [==============================] - 0s 3ms/step - loss: 2.2867e-04\n",
            "Epoch 48/100\n",
            "89/89 [==============================] - 0s 3ms/step - loss: 2.5224e-04\n",
            "Epoch 49/100\n",
            "89/89 [==============================] - 0s 3ms/step - loss: 2.1710e-04\n",
            "Epoch 50/100\n",
            "89/89 [==============================] - 0s 3ms/step - loss: 2.2279e-04\n",
            "Epoch 51/100\n",
            "89/89 [==============================] - 0s 3ms/step - loss: 2.4767e-04\n",
            "Epoch 52/100\n",
            "89/89 [==============================] - 0s 3ms/step - loss: 2.3450e-04\n",
            "Epoch 53/100\n",
            "89/89 [==============================] - 0s 3ms/step - loss: 2.1557e-04\n",
            "Epoch 54/100\n",
            "89/89 [==============================] - 0s 2ms/step - loss: 2.1175e-04\n",
            "Epoch 55/100\n",
            "89/89 [==============================] - 0s 2ms/step - loss: 2.2036e-04\n",
            "Epoch 56/100\n",
            "89/89 [==============================] - 0s 2ms/step - loss: 1.9463e-04\n",
            "Epoch 57/100\n",
            "89/89 [==============================] - 0s 2ms/step - loss: 2.2523e-04\n",
            "Epoch 58/100\n",
            "89/89 [==============================] - 0s 2ms/step - loss: 2.0376e-04\n",
            "Epoch 59/100\n",
            "89/89 [==============================] - 0s 2ms/step - loss: 2.1972e-04\n",
            "Epoch 60/100\n",
            "89/89 [==============================] - 0s 2ms/step - loss: 2.2074e-04\n",
            "Epoch 61/100\n",
            "89/89 [==============================] - 0s 2ms/step - loss: 2.2251e-04\n",
            "Epoch 62/100\n",
            "89/89 [==============================] - 0s 2ms/step - loss: 2.0843e-04\n",
            "Epoch 63/100\n",
            "89/89 [==============================] - 0s 2ms/step - loss: 2.4724e-04\n",
            "Epoch 64/100\n",
            "89/89 [==============================] - 0s 2ms/step - loss: 2.3241e-04\n",
            "Epoch 65/100\n",
            "89/89 [==============================] - 0s 2ms/step - loss: 2.1152e-04\n",
            "Epoch 66/100\n",
            "89/89 [==============================] - 0s 2ms/step - loss: 1.8923e-04\n",
            "Epoch 67/100\n",
            "89/89 [==============================] - 0s 2ms/step - loss: 2.0610e-04\n",
            "Epoch 68/100\n",
            "89/89 [==============================] - 0s 2ms/step - loss: 1.9412e-04\n",
            "Epoch 69/100\n",
            "89/89 [==============================] - 0s 2ms/step - loss: 2.0075e-04\n",
            "Epoch 70/100\n",
            "89/89 [==============================] - 0s 2ms/step - loss: 1.8061e-04\n",
            "Epoch 71/100\n",
            "89/89 [==============================] - 0s 2ms/step - loss: 2.4036e-04\n",
            "Epoch 72/100\n",
            "89/89 [==============================] - 0s 2ms/step - loss: 2.1817e-04\n",
            "Epoch 73/100\n",
            "89/89 [==============================] - 0s 2ms/step - loss: 2.2463e-04\n",
            "Epoch 74/100\n",
            "89/89 [==============================] - 0s 2ms/step - loss: 2.0739e-04\n",
            "Epoch 75/100\n",
            "89/89 [==============================] - 0s 2ms/step - loss: 1.9260e-04\n",
            "Epoch 76/100\n",
            "89/89 [==============================] - 0s 2ms/step - loss: 1.7602e-04\n",
            "Epoch 77/100\n",
            "89/89 [==============================] - 0s 2ms/step - loss: 1.5701e-04\n",
            "Epoch 78/100\n",
            "89/89 [==============================] - 0s 2ms/step - loss: 2.0428e-04\n",
            "Epoch 79/100\n",
            "89/89 [==============================] - 0s 2ms/step - loss: 1.8243e-04\n",
            "Epoch 80/100\n",
            "89/89 [==============================] - 0s 2ms/step - loss: 1.6545e-04\n",
            "Epoch 81/100\n",
            "89/89 [==============================] - 0s 2ms/step - loss: 1.7276e-04\n",
            "Epoch 82/100\n",
            "89/89 [==============================] - 0s 2ms/step - loss: 1.7706e-04\n",
            "Epoch 83/100\n",
            "89/89 [==============================] - 0s 2ms/step - loss: 1.4907e-04\n",
            "Epoch 84/100\n",
            "89/89 [==============================] - 0s 2ms/step - loss: 1.6148e-04\n",
            "Epoch 85/100\n",
            "89/89 [==============================] - 0s 2ms/step - loss: 1.7353e-04\n",
            "Epoch 86/100\n",
            "89/89 [==============================] - 0s 2ms/step - loss: 1.6131e-04\n",
            "Epoch 87/100\n",
            "89/89 [==============================] - 0s 2ms/step - loss: 1.4829e-04\n",
            "Epoch 88/100\n",
            "89/89 [==============================] - 0s 2ms/step - loss: 1.8034e-04\n",
            "Epoch 89/100\n",
            "89/89 [==============================] - 0s 2ms/step - loss: 1.4389e-04\n",
            "Epoch 90/100\n",
            "89/89 [==============================] - 0s 2ms/step - loss: 1.5785e-04\n",
            "Epoch 91/100\n",
            "89/89 [==============================] - 0s 2ms/step - loss: 1.3956e-04\n",
            "Epoch 92/100\n",
            "89/89 [==============================] - 0s 2ms/step - loss: 1.5158e-04\n",
            "Epoch 93/100\n",
            "89/89 [==============================] - 0s 2ms/step - loss: 1.6091e-04\n",
            "Epoch 94/100\n",
            "89/89 [==============================] - 0s 2ms/step - loss: 1.4728e-04\n",
            "Epoch 95/100\n",
            "89/89 [==============================] - 0s 2ms/step - loss: 1.5376e-04\n",
            "Epoch 96/100\n",
            "89/89 [==============================] - 0s 2ms/step - loss: 1.4751e-04\n",
            "Epoch 97/100\n",
            "89/89 [==============================] - 0s 2ms/step - loss: 1.4495e-04\n",
            "Epoch 98/100\n",
            "89/89 [==============================] - 0s 2ms/step - loss: 1.4709e-04\n",
            "Epoch 99/100\n",
            "89/89 [==============================] - 0s 2ms/step - loss: 1.2992e-04\n",
            "Epoch 100/100\n",
            "89/89 [==============================] - 0s 2ms/step - loss: 1.2059e-04\n"
          ]
        }
      ]
    },
    {
      "cell_type": "code",
      "source": [
        "y_train_pred = model_RNN.predict(X_train_rnn)\n",
        "y_test_pred = model_RNN.predict(X_test_rnn)"
      ],
      "metadata": {
        "colab": {
          "base_uri": "https://localhost:8080/"
        },
        "id": "i46cYIxA6geI",
        "outputId": "aed698c8-0870-4992-e40b-34f5b05ef17e"
      },
      "execution_count": 14,
      "outputs": [
        {
          "output_type": "stream",
          "name": "stdout",
          "text": [
            "3/3 [==============================] - 0s 4ms/step\n",
            "1/1 [==============================] - 0s 27ms/step\n"
          ]
        }
      ]
    },
    {
      "cell_type": "code",
      "source": [
        "# predict의 결과는 MinMaxScaler된 값을 사용하므로, 실제 단위와는 다르므로, 기존의 scale로 다시 되돌린다.\n",
        "# MinMaxScaler의 역변환\n",
        "y_train_pred_inv = sc.inverse_transform(y_train_pred)\n",
        "y_test_pred_inv = sc.inverse_transform(y_test_pred)"
      ],
      "metadata": {
        "id": "JTudJ5Ws63sZ"
      },
      "execution_count": 16,
      "outputs": []
    },
    {
      "cell_type": "code",
      "source": [
        "# 결과 시각화 하기\n",
        "# 1. source data plot (confirmed value)\n",
        "# 2. training prediction plot (y_train_pred_inv)\n",
        "# 3. test prediction plot (y_test_pred_inv)\n",
        "\n",
        "plt.plot(corona_data,linewidth=5,alpha=0.6,label='real value',color='gold')\n",
        "# np.arange(a,b,c): a부터 b까지 c간격으로 1d array 생성 (b는 제외)\n",
        "\n",
        "train_start_ind = num_past\n",
        "train_end_ind = num_past + len(y_train_pred_inv)\n",
        "x_train_axis = np.arange(train_start_ind,train_end_ind,1)\n",
        "plt.plot(x_train_axis,y_train_pred_inv,color='green',label='training prediction')\n",
        "\n",
        "test_start_ind = train_end_ind + num_past\n",
        "test_end_ind = test_start_ind + len(y_test_pred_inv)\n",
        "x_test_axis = np.arange(test_start_ind,test_end_ind,1)\n",
        "plt.plot(x_test_axis,y_test_pred_inv,color='red',label='test prediction')\n",
        "\n",
        "plt.legend()\n",
        "plt.grid()"
      ],
      "metadata": {
        "colab": {
          "base_uri": "https://localhost:8080/",
          "height": 434
        },
        "id": "kCsdJMdB7EAo",
        "outputId": "ac7947a4-dc7f-4ad9-f29a-9c774495200d"
      },
      "execution_count": 31,
      "outputs": [
        {
          "output_type": "display_data",
          "data": {
            "text/plain": [
              "<Figure size 640x480 with 1 Axes>"
            ],
            "image/png": "[encoded data removed]"
          },
          "metadata": {}
        }
      ]
    }
  ]
}